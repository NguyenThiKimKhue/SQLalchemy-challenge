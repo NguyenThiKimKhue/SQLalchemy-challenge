{
 "cells": [
  {
   "cell_type": "code",
   "execution_count": 1,
   "metadata": {},
   "outputs": [],
   "source": [
    "# Default style\n",
    "%matplotlib inline\n",
    "from matplotlib import style\n",
    "style.use('fivethirtyeight')\n",
    "\n",
    "#Import the dependences\n",
    "import numpy as np\n",
    "import pandas as pd\n",
    "import datetime as dt\n",
    "from datetime import datetime, timedelta\n",
    "\n",
    "# Plotting\n",
    "import matplotlib.pyplot as plt\n",
    "import seaborn as sns\n",
    "\n",
    "# Python SQL toolkit and Object Relational Mapper (ORM)\n",
    "import sqlalchemy\n",
    "from sqlalchemy.ext.automap import automap_base\n",
    "from sqlalchemy.orm import Session\n",
    "from sqlalchemy import create_engine, inspect, text, func, DateTime, Column"
   ]
  },
  {
   "cell_type": "markdown",
   "metadata": {},
   "source": [
    "# Reflect Tables into SQLAlchemy ORM"
   ]
  },
  {
   "cell_type": "code",
   "execution_count": 3,
   "metadata": {},
   "outputs": [],
   "source": [
    "# Python SQL toolkit and Object Relational Mapper\n",
    "import sqlalchemy\n",
    "from sqlalchemy.ext.automap import automap_base\n",
    "from sqlalchemy.orm import Session\n",
    "from sqlalchemy import create_engine, inspect, text, func, DateTime, Column"
   ]
  },
  {
   "cell_type": "code",
   "execution_count": 4,
   "metadata": {},
   "outputs": [],
   "source": [
    "# Create engine using the `hawaii.sqlite` database file\n",
    "engine = create_engine(\"sqlite:///../Resources/hawaii.sqlite\")"
   ]
  },
  {
   "cell_type": "code",
   "execution_count": 5,
   "metadata": {},
   "outputs": [],
   "source": [
    "# Declare a Base using `automap_base()`\n",
    "Base = automap_base()\n",
    "# Use the Base class to reflect the database tables\n",
    "Base.prepare(autoload_with=engine)"
   ]
  },
  {
   "cell_type": "code",
   "execution_count": 6,
   "metadata": {},
   "outputs": [
    {
     "data": {
      "text/plain": [
       "['measurement', 'station']"
      ]
     },
     "execution_count": 6,
     "metadata": {},
     "output_type": "execute_result"
    }
   ],
   "source": [
    "# Print all of the classes mapped to the Base\n",
    "Base.classes.keys()"
   ]
  },
  {
   "cell_type": "code",
   "execution_count": 7,
   "metadata": {},
   "outputs": [
    {
     "name": "stdout",
     "output_type": "stream",
     "text": [
      "measurement\n",
      "--------\n",
      "id INTEGER\n",
      "station TEXT\n",
      "date TEXT\n",
      "prcp FLOAT\n",
      "tobs FLOAT\n",
      "\n",
      "station\n",
      "--------\n",
      "id INTEGER\n",
      "station TEXT\n",
      "name TEXT\n",
      "latitude FLOAT\n",
      "longitude FLOAT\n",
      "elevation FLOAT\n",
      "\n"
     ]
    }
   ],
   "source": [
    "#################### OPTION2: # Create the inspector and connect it to the engine\n",
    "inspector = inspect(engine)\n",
    "\n",
    "# Collect the names of tables within the database\n",
    "tables = inspector.get_table_names()\n",
    "\n",
    "# Using the inspector to print the column names within the 'dow' table and its types\n",
    "for table in tables:\n",
    "    print(table)\n",
    "    print(\"--------\")\n",
    "    columns = inspector.get_columns(table)\n",
    "    for column in columns:\n",
    "        print(column[\"name\"], column[\"type\"])\n",
    "\n",
    "    print()"
   ]
  },
  {
   "cell_type": "code",
   "execution_count": 8,
   "metadata": {},
   "outputs": [],
   "source": [
    "# Assign the measurement class to a variable called `Measurement` and\n",
    "# the station class to a variable called `Station`\n",
    "Measurement = Base.classes.measurement\n",
    "Station = Base.classes.station"
   ]
  },
  {
   "cell_type": "code",
   "execution_count": 9,
   "metadata": {},
   "outputs": [],
   "source": [
    "# Create a session\n",
    "session = Session(engine) # ORM\n",
    "conn = engine.connect() # Raw SQL/Pandas in case want to test\n",
    "#session.query(func.count(measurement.date)).all()"
   ]
  },
  {
   "cell_type": "code",
   "execution_count": 10,
   "metadata": {},
   "outputs": [
    {
     "data": {
      "text/html": [
       "<div>\n",
       "<style scoped>\n",
       "    .dataframe tbody tr th:only-of-type {\n",
       "        vertical-align: middle;\n",
       "    }\n",
       "\n",
       "    .dataframe tbody tr th {\n",
       "        vertical-align: top;\n",
       "    }\n",
       "\n",
       "    .dataframe thead th {\n",
       "        text-align: right;\n",
       "    }\n",
       "</style>\n",
       "<table border=\"1\" class=\"dataframe\">\n",
       "  <thead>\n",
       "    <tr style=\"text-align: right;\">\n",
       "      <th></th>\n",
       "      <th>id</th>\n",
       "      <th>station</th>\n",
       "      <th>name</th>\n",
       "      <th>latitude</th>\n",
       "      <th>longitude</th>\n",
       "      <th>elevation</th>\n",
       "    </tr>\n",
       "  </thead>\n",
       "  <tbody>\n",
       "    <tr>\n",
       "      <th>0</th>\n",
       "      <td>1</td>\n",
       "      <td>USC00519397</td>\n",
       "      <td>WAIKIKI 717.2, HI US</td>\n",
       "      <td>21.2716</td>\n",
       "      <td>-157.8168</td>\n",
       "      <td>3.0</td>\n",
       "    </tr>\n",
       "    <tr>\n",
       "      <th>1</th>\n",
       "      <td>2</td>\n",
       "      <td>USC00513117</td>\n",
       "      <td>KANEOHE 838.1, HI US</td>\n",
       "      <td>21.4234</td>\n",
       "      <td>-157.8015</td>\n",
       "      <td>14.6</td>\n",
       "    </tr>\n",
       "  </tbody>\n",
       "</table>\n",
       "</div>"
      ],
      "text/plain": [
       "   id      station                  name  latitude  longitude  elevation\n",
       "0   1  USC00519397  WAIKIKI 717.2, HI US   21.2716  -157.8168        3.0\n",
       "1   2  USC00513117  KANEOHE 838.1, HI US   21.4234  -157.8015       14.6"
      ]
     },
     "execution_count": 10,
     "metadata": {},
     "output_type": "execute_result"
    }
   ],
   "source": [
    "# check the data in the table station (just for viewing)\n",
    "query = text(\"\"\"Select * FROM station LIMIT 2\"\"\")\n",
    "df = pd.read_sql(query, con=conn)\n",
    "df"
   ]
  },
  {
   "cell_type": "code",
   "execution_count": 11,
   "metadata": {},
   "outputs": [
    {
     "data": {
      "text/html": [
       "<div>\n",
       "<style scoped>\n",
       "    .dataframe tbody tr th:only-of-type {\n",
       "        vertical-align: middle;\n",
       "    }\n",
       "\n",
       "    .dataframe tbody tr th {\n",
       "        vertical-align: top;\n",
       "    }\n",
       "\n",
       "    .dataframe thead th {\n",
       "        text-align: right;\n",
       "    }\n",
       "</style>\n",
       "<table border=\"1\" class=\"dataframe\">\n",
       "  <thead>\n",
       "    <tr style=\"text-align: right;\">\n",
       "      <th></th>\n",
       "      <th>id</th>\n",
       "      <th>station</th>\n",
       "      <th>date</th>\n",
       "      <th>prcp</th>\n",
       "      <th>tobs</th>\n",
       "    </tr>\n",
       "  </thead>\n",
       "  <tbody>\n",
       "    <tr>\n",
       "      <th>0</th>\n",
       "      <td>1</td>\n",
       "      <td>USC00519397</td>\n",
       "      <td>2010-01-01</td>\n",
       "      <td>0.08</td>\n",
       "      <td>65.0</td>\n",
       "    </tr>\n",
       "    <tr>\n",
       "      <th>1</th>\n",
       "      <td>2725</td>\n",
       "      <td>USC00513117</td>\n",
       "      <td>2010-01-01</td>\n",
       "      <td>0.28</td>\n",
       "      <td>67.0</td>\n",
       "    </tr>\n",
       "  </tbody>\n",
       "</table>\n",
       "</div>"
      ],
      "text/plain": [
       "     id      station        date  prcp  tobs\n",
       "0     1  USC00519397  2010-01-01  0.08  65.0\n",
       "1  2725  USC00513117  2010-01-01  0.28  67.0"
      ]
     },
     "execution_count": 11,
     "metadata": {},
     "output_type": "execute_result"
    }
   ],
   "source": [
    "# check the data in the table measurement(just for viewing)\n",
    "query = text(\"\"\"Select * FROM measurement WHERE date = '2010-01-01' LIMIT 2\"\"\")\n",
    "df = pd.read_sql(query, con=conn)\n",
    "df"
   ]
  },
  {
   "cell_type": "markdown",
   "metadata": {},
   "source": [
    "# Exploratory Precipitation Analysis"
   ]
  },
  {
   "cell_type": "code",
   "execution_count": 13,
   "metadata": {},
   "outputs": [
    {
     "name": "stdout",
     "output_type": "stream",
     "text": [
      "('2017-08-23',)\n"
     ]
    }
   ],
   "source": [
    "############## Design a query to retrieve the last 12 months of precipitation data and plot the results.\n",
    "# Start with most recent Date in the data set: sort by date \n",
    "most_recent_date = session.query(Measurement.date).order_by(Measurement.date.desc()).first()\n",
    "print(most_recent_date)"
   ]
  },
  {
   "cell_type": "code",
   "execution_count": 14,
   "metadata": {},
   "outputs": [
    {
     "data": {
      "text/plain": [
       "('2017-08-23',)"
      ]
     },
     "execution_count": 14,
     "metadata": {},
     "output_type": "execute_result"
    }
   ],
   "source": [
    "# OPTION 2: Find the most recent date(ORM): \n",
    "most_recent_date_string = session.query(func.max(Measurement.date)).scalar()\n",
    "most_recent_date"
   ]
  },
  {
   "cell_type": "code",
   "execution_count": 15,
   "metadata": {},
   "outputs": [
    {
     "data": {
      "text/plain": [
       "[('2017-08-23',)]"
      ]
     },
     "execution_count": 15,
     "metadata": {},
     "output_type": "execute_result"
    }
   ],
   "source": [
    "session.query(func.max(Measurement.date)).all()"
   ]
  },
  {
   "cell_type": "code",
   "execution_count": 16,
   "metadata": {},
   "outputs": [
    {
     "data": {
      "text/plain": [
       "[('2017-08-23',)]"
      ]
     },
     "execution_count": 16,
     "metadata": {},
     "output_type": "execute_result"
    }
   ],
   "source": [
    "# Option 3: the same resuls as option 1 & 2\n",
    "query = text(\"\"\"SELECT max(date) FROM measurement;\"\"\")\n",
    "conn.execute(query).fetchall()"
   ]
  },
  {
   "cell_type": "code",
   "execution_count": 17,
   "metadata": {},
   "outputs": [],
   "source": [
    "# Convert the string to a datetime object using strptime, specifying the format of your date string:\n",
    "most_recent_date = datetime.strptime(most_recent_date_string, '%Y-%m-%d')  # Adjust the format as needed"
   ]
  },
  {
   "cell_type": "code",
   "execution_count": 18,
   "metadata": {},
   "outputs": [
    {
     "name": "stdout",
     "output_type": "stream",
     "text": [
      "Twelve months ago: 2016-08-23 00:00:00\n"
     ]
    }
   ],
   "source": [
    "# Calculate the date one year from the last date in data set.\n",
    "twelve_months_ago = most_recent_date - timedelta(days=365)\n",
    "print(\"Twelve months ago:\", twelve_months_ago)"
   ]
  },
  {
   "cell_type": "code",
   "execution_count": 19,
   "metadata": {},
   "outputs": [
    {
     "data": {
      "text/html": [
       "<div>\n",
       "<style scoped>\n",
       "    .dataframe tbody tr th:only-of-type {\n",
       "        vertical-align: middle;\n",
       "    }\n",
       "\n",
       "    .dataframe tbody tr th {\n",
       "        vertical-align: top;\n",
       "    }\n",
       "\n",
       "    .dataframe thead th {\n",
       "        text-align: right;\n",
       "    }\n",
       "</style>\n",
       "<table border=\"1\" class=\"dataframe\">\n",
       "  <thead>\n",
       "    <tr style=\"text-align: right;\">\n",
       "      <th></th>\n",
       "      <th>id</th>\n",
       "      <th>station</th>\n",
       "      <th>date</th>\n",
       "      <th>prcp</th>\n",
       "      <th>tobs</th>\n",
       "    </tr>\n",
       "  </thead>\n",
       "  <tbody>\n",
       "    <tr>\n",
       "      <th>0</th>\n",
       "      <td>2364</td>\n",
       "      <td>USC00519397</td>\n",
       "      <td>2016-08-23</td>\n",
       "      <td>0.00</td>\n",
       "      <td>81.0</td>\n",
       "    </tr>\n",
       "    <tr>\n",
       "      <th>1</th>\n",
       "      <td>5091</td>\n",
       "      <td>USC00513117</td>\n",
       "      <td>2016-08-23</td>\n",
       "      <td>0.15</td>\n",
       "      <td>76.0</td>\n",
       "    </tr>\n",
       "    <tr>\n",
       "      <th>2</th>\n",
       "      <td>7331</td>\n",
       "      <td>USC00514830</td>\n",
       "      <td>2016-08-23</td>\n",
       "      <td>0.05</td>\n",
       "      <td>80.0</td>\n",
       "    </tr>\n",
       "    <tr>\n",
       "      <th>3</th>\n",
       "      <td>8825</td>\n",
       "      <td>USC00517948</td>\n",
       "      <td>2016-08-23</td>\n",
       "      <td>NaN</td>\n",
       "      <td>80.0</td>\n",
       "    </tr>\n",
       "    <tr>\n",
       "      <th>4</th>\n",
       "      <td>11851</td>\n",
       "      <td>USC00519523</td>\n",
       "      <td>2016-08-23</td>\n",
       "      <td>0.02</td>\n",
       "      <td>80.0</td>\n",
       "    </tr>\n",
       "    <tr>\n",
       "      <th>...</th>\n",
       "      <td>...</td>\n",
       "      <td>...</td>\n",
       "      <td>...</td>\n",
       "      <td>...</td>\n",
       "      <td>...</td>\n",
       "    </tr>\n",
       "    <tr>\n",
       "      <th>2225</th>\n",
       "      <td>19549</td>\n",
       "      <td>USC00516128</td>\n",
       "      <td>2017-08-22</td>\n",
       "      <td>0.50</td>\n",
       "      <td>76.0</td>\n",
       "    </tr>\n",
       "    <tr>\n",
       "      <th>2226</th>\n",
       "      <td>2724</td>\n",
       "      <td>USC00519397</td>\n",
       "      <td>2017-08-23</td>\n",
       "      <td>0.00</td>\n",
       "      <td>81.0</td>\n",
       "    </tr>\n",
       "    <tr>\n",
       "      <th>2227</th>\n",
       "      <td>7635</td>\n",
       "      <td>USC00514830</td>\n",
       "      <td>2017-08-23</td>\n",
       "      <td>0.00</td>\n",
       "      <td>82.0</td>\n",
       "    </tr>\n",
       "    <tr>\n",
       "      <th>2228</th>\n",
       "      <td>12187</td>\n",
       "      <td>USC00519523</td>\n",
       "      <td>2017-08-23</td>\n",
       "      <td>0.08</td>\n",
       "      <td>82.0</td>\n",
       "    </tr>\n",
       "    <tr>\n",
       "      <th>2229</th>\n",
       "      <td>19550</td>\n",
       "      <td>USC00516128</td>\n",
       "      <td>2017-08-23</td>\n",
       "      <td>0.45</td>\n",
       "      <td>76.0</td>\n",
       "    </tr>\n",
       "  </tbody>\n",
       "</table>\n",
       "<p>2230 rows × 5 columns</p>\n",
       "</div>"
      ],
      "text/plain": [
       "         id      station        date  prcp  tobs\n",
       "0      2364  USC00519397  2016-08-23  0.00  81.0\n",
       "1      5091  USC00513117  2016-08-23  0.15  76.0\n",
       "2      7331  USC00514830  2016-08-23  0.05  80.0\n",
       "3      8825  USC00517948  2016-08-23   NaN  80.0\n",
       "4     11851  USC00519523  2016-08-23  0.02  80.0\n",
       "...     ...          ...         ...   ...   ...\n",
       "2225  19549  USC00516128  2017-08-22  0.50  76.0\n",
       "2226   2724  USC00519397  2017-08-23  0.00  81.0\n",
       "2227   7635  USC00514830  2017-08-23  0.00  82.0\n",
       "2228  12187  USC00519523  2017-08-23  0.08  82.0\n",
       "2229  19550  USC00516128  2017-08-23  0.45  76.0\n",
       "\n",
       "[2230 rows x 5 columns]"
      ]
     },
     "execution_count": 19,
     "metadata": {},
     "output_type": "execute_result"
    }
   ],
   "source": [
    "# retrieve the data and precipitation scores with raw SQL\n",
    "query = text(\"\"\"SELECT \n",
    "                id,\n",
    "                station,\n",
    "                date,\n",
    "                prcp,\n",
    "                tobs\n",
    "            FROM \n",
    "                measurement \n",
    "            WHERE \n",
    "                date >= '2016-08-23' \n",
    "            ORDER BY \n",
    "                date;\"\"\")\n",
    "df1 = pd.read_sql(query, con=conn)\n",
    "df1"
   ]
  },
  {
   "cell_type": "code",
   "execution_count": 20,
   "metadata": {},
   "outputs": [],
   "source": [
    "# df1=df.sort_values(by=\"date\") \n",
    "# df1.head()"
   ]
  },
  {
   "cell_type": "code",
   "execution_count": 21,
   "metadata": {},
   "outputs": [
    {
     "data": {
      "text/html": [
       "<div>\n",
       "<style scoped>\n",
       "    .dataframe tbody tr th:only-of-type {\n",
       "        vertical-align: middle;\n",
       "    }\n",
       "\n",
       "    .dataframe tbody tr th {\n",
       "        vertical-align: top;\n",
       "    }\n",
       "\n",
       "    .dataframe thead th {\n",
       "        text-align: right;\n",
       "    }\n",
       "</style>\n",
       "<table border=\"1\" class=\"dataframe\">\n",
       "  <thead>\n",
       "    <tr style=\"text-align: right;\">\n",
       "      <th></th>\n",
       "      <th>id</th>\n",
       "      <th>station</th>\n",
       "      <th>date</th>\n",
       "      <th>prcp</th>\n",
       "      <th>tobs</th>\n",
       "    </tr>\n",
       "  </thead>\n",
       "  <tbody>\n",
       "    <tr>\n",
       "      <th>0</th>\n",
       "      <td>2365</td>\n",
       "      <td>USC00519397</td>\n",
       "      <td>2016-08-24</td>\n",
       "      <td>0.08</td>\n",
       "      <td>79.0</td>\n",
       "    </tr>\n",
       "    <tr>\n",
       "      <th>1</th>\n",
       "      <td>5092</td>\n",
       "      <td>USC00513117</td>\n",
       "      <td>2016-08-24</td>\n",
       "      <td>2.15</td>\n",
       "      <td>76.0</td>\n",
       "    </tr>\n",
       "    <tr>\n",
       "      <th>2</th>\n",
       "      <td>7332</td>\n",
       "      <td>USC00514830</td>\n",
       "      <td>2016-08-24</td>\n",
       "      <td>2.28</td>\n",
       "      <td>80.0</td>\n",
       "    </tr>\n",
       "    <tr>\n",
       "      <th>3</th>\n",
       "      <td>8826</td>\n",
       "      <td>USC00517948</td>\n",
       "      <td>2016-08-24</td>\n",
       "      <td>NaN</td>\n",
       "      <td>78.0</td>\n",
       "    </tr>\n",
       "    <tr>\n",
       "      <th>4</th>\n",
       "      <td>11852</td>\n",
       "      <td>USC00519523</td>\n",
       "      <td>2016-08-24</td>\n",
       "      <td>1.22</td>\n",
       "      <td>79.0</td>\n",
       "    </tr>\n",
       "    <tr>\n",
       "      <th>5</th>\n",
       "      <td>14609</td>\n",
       "      <td>USC00519281</td>\n",
       "      <td>2016-08-24</td>\n",
       "      <td>2.15</td>\n",
       "      <td>77.0</td>\n",
       "    </tr>\n",
       "    <tr>\n",
       "      <th>6</th>\n",
       "      <td>19203</td>\n",
       "      <td>USC00516128</td>\n",
       "      <td>2016-08-24</td>\n",
       "      <td>1.45</td>\n",
       "      <td>74.0</td>\n",
       "    </tr>\n",
       "    <tr>\n",
       "      <th>7</th>\n",
       "      <td>2366</td>\n",
       "      <td>USC00519397</td>\n",
       "      <td>2016-08-25</td>\n",
       "      <td>0.08</td>\n",
       "      <td>80.0</td>\n",
       "    </tr>\n",
       "    <tr>\n",
       "      <th>8</th>\n",
       "      <td>5093</td>\n",
       "      <td>USC00513117</td>\n",
       "      <td>2016-08-25</td>\n",
       "      <td>0.08</td>\n",
       "      <td>77.0</td>\n",
       "    </tr>\n",
       "    <tr>\n",
       "      <th>9</th>\n",
       "      <td>7333</td>\n",
       "      <td>USC00514830</td>\n",
       "      <td>2016-08-25</td>\n",
       "      <td>0.00</td>\n",
       "      <td>81.0</td>\n",
       "    </tr>\n",
       "  </tbody>\n",
       "</table>\n",
       "</div>"
      ],
      "text/plain": [
       "      id      station        date  prcp  tobs\n",
       "0   2365  USC00519397  2016-08-24  0.08  79.0\n",
       "1   5092  USC00513117  2016-08-24  2.15  76.0\n",
       "2   7332  USC00514830  2016-08-24  2.28  80.0\n",
       "3   8826  USC00517948  2016-08-24   NaN  78.0\n",
       "4  11852  USC00519523  2016-08-24  1.22  79.0\n",
       "5  14609  USC00519281  2016-08-24  2.15  77.0\n",
       "6  19203  USC00516128  2016-08-24  1.45  74.0\n",
       "7   2366  USC00519397  2016-08-25  0.08  80.0\n",
       "8   5093  USC00513117  2016-08-25  0.08  77.0\n",
       "9   7333  USC00514830  2016-08-25  0.00  81.0"
      ]
     },
     "execution_count": 21,
     "metadata": {},
     "output_type": "execute_result"
    }
   ],
   "source": [
    "#  Option 2: Perform a query to retrieve the data and precipitation scores with ORM\n",
    "rows = session.query(Measurement.id, Measurement.station, Measurement.date, Measurement.prcp, Measurement.tobs).filter(Measurement.date >= twelve_months_ago).order_by(Measurement.date).all()\n",
    "# Save the query results as a Pandas DataFrame. Explicitly set the column names\n",
    "df_option2 = pd.DataFrame(rows) # if don't use order-by as above we can add this at the end:   sort_values(by='date') \n",
    "df_option2.head(10)"
   ]
  },
  {
   "cell_type": "code",
   "execution_count": 22,
   "metadata": {},
   "outputs": [],
   "source": [
    "# # Change 'date' to a datetime format\n",
    "# df['date'] = pd.to_datetime(df['date'])\n",
    "# df.info()"
   ]
  },
  {
   "cell_type": "code",
   "execution_count": 23,
   "metadata": {},
   "outputs": [
    {
     "data": {
      "image/png": "[encoded data removed]",
      "text/plain": [
       "<Figure size 1000x600 with 1 Axes>"
      ]
     },
     "metadata": {},
     "output_type": "display_data"
    }
   ],
   "source": [
    "# Matplotlib to plot the data\n",
    "plt.figure(figsize=(10,6))\n",
    "plt.plot(df1.date,df1.prcp,label='precipitation')\n",
    "#plt.plot(df1['date'],df1['prcp'], color='skyblue',label='precipitation')\n",
    "plt.title(\"The last 12 month Precipitation in Hawaii\")\n",
    "plt.xlabel(\"Date\")\n",
    "plt.ylabel(\"Inches\")\n",
    "\n",
    "# Adjust the x-ticks \n",
    "plt.gca().xaxis.set_major_locator(plt.MaxNLocator(nbins=9))\n",
    "\n",
    "# Set x-ticks, y-ticks\n",
    "plt.xticks(rotation=90)\n",
    "\n",
    "# Set x and y limits\n",
    "plt.xlim(df1['date'].min(), df1['date'].max())\n",
    "\n",
    "# Show the plot\n",
    "plt.show()"
   ]
  },
  {
   "cell_type": "code",
   "execution_count": 70,
   "metadata": {},
   "outputs": [
    {
     "data": {
      "text/plain": [
       "<Figure size 1000x700 with 0 Axes>"
      ]
     },
     "metadata": {},
     "output_type": "display_data"
    },
    {
     "data": {
      "image/png": "[encoded data removed]",
      "text/plain": [
       "<Figure size 640x480 with 1 Axes>"
      ]
     },
     "metadata": {},
     "output_type": "display_data"
    }
   ],
   "source": [
    "#OPTION 2: Use Pandas's plot\n",
    "plt.figure(figsize=(10,7))\n",
    "df1.plot(x=\"date\",y=\"prcp\", rot=90)\n",
    "plt.title(\"Hawaii Precipitation Analysis\")\n",
    "plt.ylabel(\"Precipitation (Inches)\")\n",
    "plt.show()"
   ]
  },
  {
   "cell_type": "code",
   "execution_count": 25,
   "metadata": {},
   "outputs": [
    {
     "name": "stdout",
     "output_type": "stream",
     "text": [
      "count    2021.000000\n",
      "mean        0.177279\n",
      "std         0.461190\n",
      "min         0.000000\n",
      "25%         0.000000\n",
      "50%         0.020000\n",
      "75%         0.130000\n",
      "max         6.700000\n",
      "Name: prcp, dtype: float64\n"
     ]
    }
   ],
   "source": [
    "#Use Pandas to print the summary statistics for the precipitation data.\n",
    "print(df1['prcp'].describe())"
   ]
  },
  {
   "cell_type": "markdown",
   "metadata": {},
   "source": [
    "# Exploratory Station Analysis"
   ]
  },
  {
   "cell_type": "code",
   "execution_count": 27,
   "metadata": {},
   "outputs": [
    {
     "data": {
      "text/plain": [
       "['measurement', 'station']"
      ]
     },
     "execution_count": 27,
     "metadata": {},
     "output_type": "execute_result"
    }
   ],
   "source": [
    "Base.classes.keys()"
   ]
  },
  {
   "cell_type": "code",
   "execution_count": 28,
   "metadata": {},
   "outputs": [
    {
     "data": {
      "text/plain": [
       "[(9,)]"
      ]
     },
     "execution_count": 28,
     "metadata": {},
     "output_type": "execute_result"
    }
   ],
   "source": [
    "# Design a query to calculate the total number of stations in the dataset\n",
    "#total_station = session.query(Station).count()\n",
    "total_station= session.query(func.count(func.distinct(Measurement.station))).all()\n",
    "total_station"
   ]
  },
  {
   "cell_type": "code",
   "execution_count": 29,
   "metadata": {},
   "outputs": [
    {
     "name": "stdout",
     "output_type": "stream",
     "text": [
      "Station: USC00519281, count: 2772\n",
      "Station: USC00519397, count: 2724\n",
      "Station: USC00513117, count: 2709\n",
      "Station: USC00519523, count: 2669\n",
      "Station: USC00516128, count: 2612\n",
      "Station: USC00514830, count: 2202\n",
      "Station: USC00511918, count: 1979\n",
      "Station: USC00517948, count: 1372\n",
      "Station: USC00518838, count: 511\n"
     ]
    }
   ],
   "source": [
    "# Design a query to find the most active stations (i.e. which stations have the most rows?)\n",
    "# List the stations and their counts in descending order.\n",
    "\n",
    "count_row_stations = session.query(Measurement.station, func.count(Measurement.station)).\\\n",
    "        group_by(Measurement.station).\\\n",
    "        order_by(func.count(Measurement.station).desc()).all()\n",
    "\n",
    "for station, count in count_row_stations:\n",
    "        print(f\"Station: {station}, count: {count}\")"
   ]
  },
  {
   "cell_type": "code",
   "execution_count": 30,
   "metadata": {},
   "outputs": [
    {
     "name": "stdout",
     "output_type": "stream",
     "text": [
      "Station: USC00519281\n",
      "Lowest Temperature: 54.0\n",
      "Highest Temperature: 85.0\n",
      "Average Temperature: 71.66378066378067\n"
     ]
    }
   ],
   "source": [
    "# Using the most active station id from the previous query, calculate the lowest, highest, and average temperature.\n",
    "most_active_stations = count_row_stations[0][0] # Get the station ID of the most active station\n",
    "most_active_stations\n",
    "temperature_stats = session.query(\n",
    "    func.min(Measurement.tobs),\n",
    "    func.max(Measurement.tobs),\n",
    "    func.avg(Measurement.tobs)\n",
    ").filter(Measurement.station == most_active_stations).all()\n",
    "# Print the results\n",
    "lowest_temp, highest_temp, average_temp = temperature_stats[0]\n",
    "print(f\"Station: {most_active_stations}\")\n",
    "print(f\"Lowest Temperature: {lowest_temp}\")\n",
    "print(f\"Highest Temperature: {highest_temp}\")\n",
    "print(f\"Average Temperature: {average_temp}\")"
   ]
  },
  {
   "cell_type": "code",
   "execution_count": 31,
   "metadata": {},
   "outputs": [
    {
     "data": {
      "text/plain": [
       "[77.0,\n",
       " 80.0,\n",
       " 80.0,\n",
       " 75.0,\n",
       " 73.0,\n",
       " 78.0,\n",
       " 77.0,\n",
       " 78.0,\n",
       " 80.0,\n",
       " 80.0,\n",
       " 78.0,\n",
       " 78.0,\n",
       " 78.0,\n",
       " 73.0,\n",
       " 74.0,\n",
       " 80.0,\n",
       " 79.0,\n",
       " 77.0,\n",
       " 80.0,\n",
       " 76.0,\n",
       " 79.0,\n",
       " 75.0,\n",
       " 79.0,\n",
       " 78.0,\n",
       " 79.0,\n",
       " 78.0,\n",
       " 78.0,\n",
       " 76.0,\n",
       " 74.0,\n",
       " 77.0,\n",
       " 78.0,\n",
       " 79.0,\n",
       " 79.0,\n",
       " 77.0,\n",
       " 80.0,\n",
       " 78.0,\n",
       " 78.0,\n",
       " 78.0,\n",
       " 77.0,\n",
       " 79.0,\n",
       " 79.0,\n",
       " 79.0,\n",
       " 79.0,\n",
       " 75.0,\n",
       " 76.0,\n",
       " 73.0,\n",
       " 72.0,\n",
       " 71.0,\n",
       " 77.0,\n",
       " 79.0,\n",
       " 78.0,\n",
       " 79.0,\n",
       " 77.0,\n",
       " 79.0,\n",
       " 77.0,\n",
       " 78.0,\n",
       " 78.0,\n",
       " 78.0,\n",
       " 78.0,\n",
       " 77.0,\n",
       " 74.0,\n",
       " 75.0,\n",
       " 76.0,\n",
       " 73.0,\n",
       " 76.0,\n",
       " 74.0,\n",
       " 77.0,\n",
       " 76.0,\n",
       " 76.0,\n",
       " 74.0,\n",
       " 75.0,\n",
       " 75.0,\n",
       " 75.0,\n",
       " 75.0,\n",
       " 71.0,\n",
       " 63.0,\n",
       " 70.0,\n",
       " 68.0,\n",
       " 67.0,\n",
       " 77.0,\n",
       " 74.0,\n",
       " 77.0,\n",
       " 76.0,\n",
       " 76.0,\n",
       " 75.0,\n",
       " 76.0,\n",
       " 75.0,\n",
       " 73.0,\n",
       " 75.0,\n",
       " 73.0,\n",
       " 75.0,\n",
       " 74.0,\n",
       " 75.0,\n",
       " 74.0,\n",
       " 75.0,\n",
       " 73.0,\n",
       " 75.0,\n",
       " 73.0,\n",
       " 73.0,\n",
       " 74.0,\n",
       " 70.0,\n",
       " 72.0,\n",
       " 70.0,\n",
       " 67.0,\n",
       " 67.0,\n",
       " 69.0,\n",
       " 70.0,\n",
       " 68.0,\n",
       " 69.0,\n",
       " 69.0,\n",
       " 66.0,\n",
       " 65.0,\n",
       " 68.0,\n",
       " 62.0,\n",
       " 75.0,\n",
       " 70.0,\n",
       " 69.0,\n",
       " 76.0,\n",
       " 76.0,\n",
       " 74.0,\n",
       " 73.0,\n",
       " 71.0,\n",
       " 74.0,\n",
       " 74.0,\n",
       " 72.0,\n",
       " 71.0,\n",
       " 72.0,\n",
       " 74.0,\n",
       " 69.0,\n",
       " 67.0,\n",
       " 72.0,\n",
       " 70.0,\n",
       " 64.0,\n",
       " 63.0,\n",
       " 63.0,\n",
       " 62.0,\n",
       " 70.0,\n",
       " 70.0,\n",
       " 62.0,\n",
       " 62.0,\n",
       " 63.0,\n",
       " 65.0,\n",
       " 69.0,\n",
       " 77.0,\n",
       " 70.0,\n",
       " 74.0,\n",
       " 69.0,\n",
       " 72.0,\n",
       " 71.0,\n",
       " 69.0,\n",
       " 71.0,\n",
       " 71.0,\n",
       " 72.0,\n",
       " 72.0,\n",
       " 69.0,\n",
       " 70.0,\n",
       " 66.0,\n",
       " 65.0,\n",
       " 69.0,\n",
       " 68.0,\n",
       " 68.0,\n",
       " 68.0,\n",
       " 59.0,\n",
       " 60.0,\n",
       " 70.0,\n",
       " 73.0,\n",
       " 75.0,\n",
       " 64.0,\n",
       " 59.0,\n",
       " 59.0,\n",
       " 62.0,\n",
       " 68.0,\n",
       " 70.0,\n",
       " 73.0,\n",
       " 79.0,\n",
       " 75.0,\n",
       " 65.0,\n",
       " 70.0,\n",
       " 74.0,\n",
       " 70.0,\n",
       " 70.0,\n",
       " 71.0,\n",
       " 71.0,\n",
       " 71.0,\n",
       " 69.0,\n",
       " 61.0,\n",
       " 67.0,\n",
       " 65.0,\n",
       " 72.0,\n",
       " 71.0,\n",
       " 73.0,\n",
       " 72.0,\n",
       " 77.0,\n",
       " 73.0,\n",
       " 67.0,\n",
       " 62.0,\n",
       " 64.0,\n",
       " 67.0,\n",
       " 66.0,\n",
       " 81.0,\n",
       " 69.0,\n",
       " 66.0,\n",
       " 67.0,\n",
       " 69.0,\n",
       " 66.0,\n",
       " 68.0,\n",
       " 65.0,\n",
       " 74.0,\n",
       " 69.0,\n",
       " 72.0,\n",
       " 73.0,\n",
       " 72.0,\n",
       " 71.0,\n",
       " 76.0,\n",
       " 77.0,\n",
       " 76.0,\n",
       " 74.0,\n",
       " 68.0,\n",
       " 73.0,\n",
       " 71.0,\n",
       " 74.0,\n",
       " 75.0,\n",
       " 70.0,\n",
       " 67.0,\n",
       " 71.0,\n",
       " 67.0,\n",
       " 74.0,\n",
       " 77.0,\n",
       " 78.0,\n",
       " 67.0,\n",
       " 70.0,\n",
       " 69.0,\n",
       " 69.0,\n",
       " 74.0,\n",
       " 78.0,\n",
       " 71.0,\n",
       " 67.0,\n",
       " 68.0,\n",
       " 67.0,\n",
       " 76.0,\n",
       " 69.0,\n",
       " 72.0,\n",
       " 76.0,\n",
       " 68.0,\n",
       " 72.0,\n",
       " 74.0,\n",
       " 70.0,\n",
       " 67.0,\n",
       " 72.0,\n",
       " 60.0,\n",
       " 65.0,\n",
       " 75.0,\n",
       " 70.0,\n",
       " 75.0,\n",
       " 70.0,\n",
       " 79.0,\n",
       " 75.0,\n",
       " 70.0,\n",
       " 67.0,\n",
       " 74.0,\n",
       " 70.0,\n",
       " 75.0,\n",
       " 76.0,\n",
       " 77.0,\n",
       " 74.0,\n",
       " 74.0,\n",
       " 74.0,\n",
       " 69.0,\n",
       " 68.0,\n",
       " 76.0,\n",
       " 74.0,\n",
       " 71.0,\n",
       " 71.0,\n",
       " 74.0,\n",
       " 74.0,\n",
       " 74.0,\n",
       " 74.0,\n",
       " 80.0,\n",
       " 74.0,\n",
       " 72.0,\n",
       " 75.0,\n",
       " 80.0,\n",
       " 76.0,\n",
       " 76.0,\n",
       " 77.0,\n",
       " 75.0,\n",
       " 75.0,\n",
       " 75.0,\n",
       " 75.0,\n",
       " 72.0,\n",
       " 74.0,\n",
       " 74.0,\n",
       " 74.0,\n",
       " 76.0,\n",
       " 74.0,\n",
       " 75.0,\n",
       " 73.0,\n",
       " 79.0,\n",
       " 75.0,\n",
       " 72.0,\n",
       " 72.0,\n",
       " 74.0,\n",
       " 72.0,\n",
       " 72.0,\n",
       " 77.0,\n",
       " 71.0,\n",
       " 73.0,\n",
       " 76.0,\n",
       " 77.0,\n",
       " 76.0,\n",
       " 76.0,\n",
       " 79.0,\n",
       " 81.0,\n",
       " 76.0,\n",
       " 78.0,\n",
       " 77.0,\n",
       " 74.0,\n",
       " 75.0,\n",
       " 78.0,\n",
       " 78.0,\n",
       " 69.0,\n",
       " 72.0,\n",
       " 74.0,\n",
       " 74.0,\n",
       " 76.0,\n",
       " 80.0,\n",
       " 80.0,\n",
       " 76.0,\n",
       " 76.0,\n",
       " 76.0,\n",
       " 77.0,\n",
       " 77.0,\n",
       " 77.0,\n",
       " 82.0,\n",
       " 75.0,\n",
       " 77.0,\n",
       " 75.0,\n",
       " 76.0,\n",
       " 81.0,\n",
       " 82.0,\n",
       " 81.0,\n",
       " 76.0,\n",
       " 77.0,\n",
       " 82.0,\n",
       " 83.0,\n",
       " 77.0,\n",
       " 77.0,\n",
       " 77.0,\n",
       " 76.0,\n",
       " 76.0,\n",
       " 79.0]"
      ]
     },
     "execution_count": 31,
     "metadata": {},
     "output_type": "execute_result"
    }
   ],
   "source": [
    "# Using the most active station id\n",
    "# Query the last 12 months of temperature observation data for this station and plot the results as a histogram\n",
    "last_12month_temp = session.query(Measurement.tobs).\\\n",
    "filter(Measurement.station == most_active_stations).\\\n",
    "filter(Measurement.date >=twelve_months_ago).\\\n",
    "all()\n",
    "# Extract the temperature values from the query result\n",
    "temperatures = [temp[0] for temp in last_12month_temp]\n",
    "temperatures"
   ]
  },
  {
   "cell_type": "code",
   "execution_count": 32,
   "metadata": {},
   "outputs": [
    {
     "data": {
      "image/png": "[encoded data removed]",
      "text/plain": [
       "<Figure size 1000x600 with 1 Axes>"
      ]
     },
     "metadata": {},
     "output_type": "display_data"
    }
   ],
   "source": [
    "# Step 3: Plot the results as a histogram\n",
    "plt.figure(figsize=(10, 6))\n",
    "plt.hist(temperatures, bins=12, color='blue', alpha=0.7)\n",
    "plt.title(f'Temperature Observations for Station {most_active_stations} in the Last 12 Months')\n",
    "plt.xlabel('Temperature (°F)')\n",
    "plt.ylabel('Frequency')\n",
    "plt.grid(axis='y', alpha=0.75)\n",
    "plt.show()"
   ]
  },
  {
   "cell_type": "markdown",
   "metadata": {},
   "source": [
    "# Close Session"
   ]
  },
  {
   "cell_type": "code",
   "execution_count": 34,
   "metadata": {},
   "outputs": [],
   "source": [
    "# Close Session\n",
    "session.close()\n"
   ]
  },
  {
   "cell_type": "code",
   "execution_count": null,
   "metadata": {},
   "outputs": [],
   "source": []
  }
 ],
 "metadata": {
  "anaconda-cloud": {},
  "kernel_info": {
   "name": "python3"
  },
  "kernelspec": {
   "display_name": "NEW_ENV",
   "language": "python",
   "name": "dev"
  },
  "language_info": {
   "codemirror_mode": {
    "name": "ipython",
    "version": 3
   },
   "file_extension": ".py",
   "mimetype": "text/x-python",
   "name": "python",
   "nbconvert_exporter": "python",
   "pygments_lexer": "ipython3",
   "version": "3.12.7"
  },
  "nteract": {
   "version": "0.12.3"
  },
  "varInspector": {
   "cols": {
    "lenName": 16,
    "lenType": 16,
    "lenVar": 40
   },
   "kernels_config": {
    "python": {
     "delete_cmd_postfix": "",
     "delete_cmd_prefix": "del ",
     "library": "var_list.py",
     "varRefreshCmd": "print(var_dic_list())"
    },
    "r": {
     "delete_cmd_postfix": ") ",
     "delete_cmd_prefix": "rm(",
     "library": "var_list.r",
     "varRefreshCmd": "cat(var_dic_list()) "
    }
   },
   "types_to_exclude": [
    "module",
    "function",
    "builtin_function_or_method",
    "instance",
    "_Feature"
   ],
   "window_display": false
  }
 },
 "nbformat": 4,
 "nbformat_minor": 4
}
